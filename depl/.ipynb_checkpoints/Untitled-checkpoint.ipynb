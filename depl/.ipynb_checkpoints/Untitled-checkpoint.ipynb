{
 "cells": [
  {
   "cell_type": "code",
   "execution_count": null,
   "id": "a4c3eca4",
   "metadata": {},
   "outputs": [],
   "source": [
    "import pandas as pd\n",
    "import pickle\n",
    "import numpy as np\n",
    "\n",
    "\n",
    "model = pickle.load(open('../model/model.pkl', 'rb'))\n",
    "cols = ['country','amount','PSP', '3D_secured', 'card', 'weekday', 'hour']\n",
    "\n",
    "def model_prdedict(input_df): \n",
    "\n",
    "    for x in range(0,4):\n",
    "        input_data['PSP'] = x\n",
    "        display(input_data)\n",
    "        display(model.predict_proba(input_data)[0][1])\n",
    "    \n",
    "    #return model.predict_proba(input_data)\n",
    "\n",
    "\"\"\"\n",
    "{'Austria': 0, 'Germany': 1, 'Switzerland': 2}\n",
    "{'Goldcard': 0, 'Moneycard': 1, 'Simplecard': 2, 'UK_Card': 3}\n",
    "{'Diners': 0, 'Master': 1, 'Visa': 2}\n",
    "\"\"\"\n",
    "\n",
    "service_fees = pd.read_csv('../datasets/Service_fees.csv')\n",
    "\n",
    "if __name__ == '__main__':\n",
    "    #app.run(debug=True)\n",
    "    \n",
    "    final = np.array([2,399,-1,0,1,1,45])\n",
    "    input_data = pd.DataFrame([final], columns = cols)   \n",
    "    \n",
    "    model_prdedict(input_data);"
   ]
  },
  {
   "cell_type": "code",
   "execution_count": null,
   "id": "afbdb914",
   "metadata": {},
   "outputs": [],
   "source": []
  }
 ],
 "metadata": {
  "kernelspec": {
   "display_name": "Python 3",
   "language": "python",
   "name": "python3"
  },
  "language_info": {
   "codemirror_mode": {
    "name": "ipython",
    "version": 3
   },
   "file_extension": ".py",
   "mimetype": "text/x-python",
   "name": "python",
   "nbconvert_exporter": "python",
   "pygments_lexer": "ipython3",
   "version": "3.8.8"
  }
 },
 "nbformat": 4,
 "nbformat_minor": 5
}
